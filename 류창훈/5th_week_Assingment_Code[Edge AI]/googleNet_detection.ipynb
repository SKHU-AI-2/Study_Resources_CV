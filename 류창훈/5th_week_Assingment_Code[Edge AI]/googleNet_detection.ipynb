{
  "nbformat": 4,
  "nbformat_minor": 0,
  "metadata": {
    "colab": {
      "provenance": [],
      "machine_shape": "hm",
      "gpuType": "A100"
    },
    "kernelspec": {
      "name": "python3",
      "display_name": "Python 3"
    },
    "language_info": {
      "name": "python"
    },
    "accelerator": "GPU"
  },
  "cells": [
    {
      "cell_type": "code",
      "execution_count": 1,
      "metadata": {
        "colab": {
          "base_uri": "https://localhost:8080/"
        },
        "id": "Uy8SVmatbh_p",
        "outputId": "94543ecc-32ec-44bf-e99c-393e5463f001"
      },
      "outputs": [
        {
          "output_type": "stream",
          "name": "stdout",
          "text": [
            "Requirement already satisfied: tensorflow in /usr/local/lib/python3.10/dist-packages (2.15.0)\n",
            "Requirement already satisfied: absl-py>=1.0.0 in /usr/local/lib/python3.10/dist-packages (from tensorflow) (1.4.0)\n",
            "Requirement already satisfied: astunparse>=1.6.0 in /usr/local/lib/python3.10/dist-packages (from tensorflow) (1.6.3)\n",
            "Requirement already satisfied: flatbuffers>=23.5.26 in /usr/local/lib/python3.10/dist-packages (from tensorflow) (23.5.26)\n",
            "Requirement already satisfied: gast!=0.5.0,!=0.5.1,!=0.5.2,>=0.2.1 in /usr/local/lib/python3.10/dist-packages (from tensorflow) (0.5.4)\n",
            "Requirement already satisfied: google-pasta>=0.1.1 in /usr/local/lib/python3.10/dist-packages (from tensorflow) (0.2.0)\n",
            "Requirement already satisfied: h5py>=2.9.0 in /usr/local/lib/python3.10/dist-packages (from tensorflow) (3.9.0)\n",
            "Requirement already satisfied: libclang>=13.0.0 in /usr/local/lib/python3.10/dist-packages (from tensorflow) (16.0.6)\n",
            "Requirement already satisfied: ml-dtypes~=0.2.0 in /usr/local/lib/python3.10/dist-packages (from tensorflow) (0.2.0)\n",
            "Requirement already satisfied: numpy<2.0.0,>=1.23.5 in /usr/local/lib/python3.10/dist-packages (from tensorflow) (1.25.2)\n",
            "Requirement already satisfied: opt-einsum>=2.3.2 in /usr/local/lib/python3.10/dist-packages (from tensorflow) (3.3.0)\n",
            "Requirement already satisfied: packaging in /usr/local/lib/python3.10/dist-packages (from tensorflow) (23.2)\n",
            "Requirement already satisfied: protobuf!=4.21.0,!=4.21.1,!=4.21.2,!=4.21.3,!=4.21.4,!=4.21.5,<5.0.0dev,>=3.20.3 in /usr/local/lib/python3.10/dist-packages (from tensorflow) (3.20.3)\n",
            "Requirement already satisfied: setuptools in /usr/local/lib/python3.10/dist-packages (from tensorflow) (67.7.2)\n",
            "Requirement already satisfied: six>=1.12.0 in /usr/local/lib/python3.10/dist-packages (from tensorflow) (1.16.0)\n",
            "Requirement already satisfied: termcolor>=1.1.0 in /usr/local/lib/python3.10/dist-packages (from tensorflow) (2.4.0)\n",
            "Requirement already satisfied: typing-extensions>=3.6.6 in /usr/local/lib/python3.10/dist-packages (from tensorflow) (4.10.0)\n",
            "Requirement already satisfied: wrapt<1.15,>=1.11.0 in /usr/local/lib/python3.10/dist-packages (from tensorflow) (1.14.1)\n",
            "Requirement already satisfied: tensorflow-io-gcs-filesystem>=0.23.1 in /usr/local/lib/python3.10/dist-packages (from tensorflow) (0.36.0)\n",
            "Requirement already satisfied: grpcio<2.0,>=1.24.3 in /usr/local/lib/python3.10/dist-packages (from tensorflow) (1.62.0)\n",
            "Requirement already satisfied: tensorboard<2.16,>=2.15 in /usr/local/lib/python3.10/dist-packages (from tensorflow) (2.15.2)\n",
            "Requirement already satisfied: tensorflow-estimator<2.16,>=2.15.0 in /usr/local/lib/python3.10/dist-packages (from tensorflow) (2.15.0)\n",
            "Requirement already satisfied: keras<2.16,>=2.15.0 in /usr/local/lib/python3.10/dist-packages (from tensorflow) (2.15.0)\n",
            "Requirement already satisfied: wheel<1.0,>=0.23.0 in /usr/local/lib/python3.10/dist-packages (from astunparse>=1.6.0->tensorflow) (0.42.0)\n",
            "Requirement already satisfied: google-auth<3,>=1.6.3 in /usr/local/lib/python3.10/dist-packages (from tensorboard<2.16,>=2.15->tensorflow) (2.27.0)\n",
            "Requirement already satisfied: google-auth-oauthlib<2,>=0.5 in /usr/local/lib/python3.10/dist-packages (from tensorboard<2.16,>=2.15->tensorflow) (1.2.0)\n",
            "Requirement already satisfied: markdown>=2.6.8 in /usr/local/lib/python3.10/dist-packages (from tensorboard<2.16,>=2.15->tensorflow) (3.5.2)\n",
            "Requirement already satisfied: requests<3,>=2.21.0 in /usr/local/lib/python3.10/dist-packages (from tensorboard<2.16,>=2.15->tensorflow) (2.31.0)\n",
            "Requirement already satisfied: tensorboard-data-server<0.8.0,>=0.7.0 in /usr/local/lib/python3.10/dist-packages (from tensorboard<2.16,>=2.15->tensorflow) (0.7.2)\n",
            "Requirement already satisfied: werkzeug>=1.0.1 in /usr/local/lib/python3.10/dist-packages (from tensorboard<2.16,>=2.15->tensorflow) (3.0.1)\n",
            "Requirement already satisfied: cachetools<6.0,>=2.0.0 in /usr/local/lib/python3.10/dist-packages (from google-auth<3,>=1.6.3->tensorboard<2.16,>=2.15->tensorflow) (5.3.3)\n",
            "Requirement already satisfied: pyasn1-modules>=0.2.1 in /usr/local/lib/python3.10/dist-packages (from google-auth<3,>=1.6.3->tensorboard<2.16,>=2.15->tensorflow) (0.3.0)\n",
            "Requirement already satisfied: rsa<5,>=3.1.4 in /usr/local/lib/python3.10/dist-packages (from google-auth<3,>=1.6.3->tensorboard<2.16,>=2.15->tensorflow) (4.9)\n",
            "Requirement already satisfied: requests-oauthlib>=0.7.0 in /usr/local/lib/python3.10/dist-packages (from google-auth-oauthlib<2,>=0.5->tensorboard<2.16,>=2.15->tensorflow) (1.3.1)\n",
            "Requirement already satisfied: charset-normalizer<4,>=2 in /usr/local/lib/python3.10/dist-packages (from requests<3,>=2.21.0->tensorboard<2.16,>=2.15->tensorflow) (3.3.2)\n",
            "Requirement already satisfied: idna<4,>=2.5 in /usr/local/lib/python3.10/dist-packages (from requests<3,>=2.21.0->tensorboard<2.16,>=2.15->tensorflow) (3.6)\n",
            "Requirement already satisfied: urllib3<3,>=1.21.1 in /usr/local/lib/python3.10/dist-packages (from requests<3,>=2.21.0->tensorboard<2.16,>=2.15->tensorflow) (2.0.7)\n",
            "Requirement already satisfied: certifi>=2017.4.17 in /usr/local/lib/python3.10/dist-packages (from requests<3,>=2.21.0->tensorboard<2.16,>=2.15->tensorflow) (2024.2.2)\n",
            "Requirement already satisfied: MarkupSafe>=2.1.1 in /usr/local/lib/python3.10/dist-packages (from werkzeug>=1.0.1->tensorboard<2.16,>=2.15->tensorflow) (2.1.5)\n",
            "Requirement already satisfied: pyasn1<0.6.0,>=0.4.6 in /usr/local/lib/python3.10/dist-packages (from pyasn1-modules>=0.2.1->google-auth<3,>=1.6.3->tensorboard<2.16,>=2.15->tensorflow) (0.5.1)\n",
            "Requirement already satisfied: oauthlib>=3.0.0 in /usr/local/lib/python3.10/dist-packages (from requests-oauthlib>=0.7.0->google-auth-oauthlib<2,>=0.5->tensorboard<2.16,>=2.15->tensorflow) (3.2.2)\n"
          ]
        }
      ],
      "source": [
        "!pip install tensorflow"
      ]
    },
    {
      "cell_type": "code",
      "source": [
        "import tensorflow as tf\n",
        "from tensorflow.keras import layers, models\n",
        "import os\n",
        "import cv2\n",
        "import numpy as np\n",
        "import zipfile\n",
        "from sklearn.model_selection import train_test_split"
      ],
      "metadata": {
        "id": "JnztH2gDcFjB"
      },
      "execution_count": 12,
      "outputs": []
    },
    {
      "cell_type": "code",
      "source": [
        "zip_file_path = '/content/drive/MyDrive/test_detection_app/augmented_images_apple.zip'\n",
        "extraction_path = 'apple_data_folder'\n",
        "\n",
        "\n",
        "with zipfile.ZipFile(zip_file_path, 'r') as zip_ref:\n",
        "    zip_ref.extractall(extraction_path)"
      ],
      "metadata": {
        "id": "KiJGdrEtdr_k"
      },
      "execution_count": 4,
      "outputs": []
    },
    {
      "cell_type": "code",
      "source": [
        "zip_file_path = '/content/drive/MyDrive/test_detection_app/augmented_images_banana.zip'\n",
        "extraction_path = 'banana_data_folder'\n",
        "\n",
        "\n",
        "with zipfile.ZipFile(zip_file_path, 'r') as zip_ref:\n",
        "    zip_ref.extractall(extraction_path)"
      ],
      "metadata": {
        "id": "dSb6toIleRJh"
      },
      "execution_count": 5,
      "outputs": []
    },
    {
      "cell_type": "code",
      "source": [
        "apple_path = '/content/apple_data_folder/appl_augmented_images'\n",
        "banana_path = '/content/banana_data_folder/banana_augmented_images'"
      ],
      "metadata": {
        "id": "4VEpCoz4cILY"
      },
      "execution_count": 6,
      "outputs": []
    },
    {
      "cell_type": "code",
      "source": [
        "def load_and_preprocess_images(folder_path, label, img_size=(28, 28)):\n",
        "    images = []\n",
        "    labels = []\n",
        "\n",
        "    for img_file in os.listdir(folder_path):\n",
        "        img_path = os.path.join(folder_path, img_file)\n",
        "        img = cv2.imread(img_path)\n",
        "        img = cv2.resize(img, img_size)\n",
        "        img = img / 255.0\n",
        "        images.append(img)\n",
        "        labels.append(label)\n",
        "\n",
        "    return images, labels"
      ],
      "metadata": {
        "id": "4MhwcHUvcKk-"
      },
      "execution_count": 7,
      "outputs": []
    },
    {
      "cell_type": "code",
      "source": [
        "apple_images, apple_labels = load_and_preprocess_images(apple_path, label=1)\n",
        "banana_images, banana_labels = load_and_preprocess_images(banana_path, label=0)"
      ],
      "metadata": {
        "id": "pXZ8EngicOmV"
      },
      "execution_count": 8,
      "outputs": []
    },
    {
      "cell_type": "code",
      "source": [
        "combined_images = np.array(apple_images + banana_images)\n",
        "combined_labels = np.array(apple_labels + banana_labels)"
      ],
      "metadata": {
        "id": "HpLvZdLDkyjp"
      },
      "execution_count": 13,
      "outputs": []
    },
    {
      "cell_type": "code",
      "source": [
        "X_train, X_temp, y_train, y_temp = train_test_split(combined_images, combined_labels, test_size=0.4, random_state=42)\n",
        "X_val, X_test, y_val, y_test = train_test_split(X_temp, y_temp, test_size=0.5, random_state=42)"
      ],
      "metadata": {
        "id": "n-sZiK8Ck1BF"
      },
      "execution_count": 14,
      "outputs": []
    },
    {
      "cell_type": "code",
      "source": [
        "def inception_module(x, filter_config):\n",
        "    (filters_1x1, filters_3x3_reduce, filters_3x3, filters_5x5_reduce, filters_5x5, filters_pool_proj) = filter_config\n",
        "\n",
        "    path1 = layers.Conv2D(filters_1x1, (1, 1), padding='same', activation='relu')(x)\n",
        "\n",
        "    path2 = layers.Conv2D(filters_3x3_reduce, (1, 1), padding='same', activation='relu')(x)\n",
        "    path2 = layers.Conv2D(filters_3x3, (3, 3), padding='same', activation='relu')(path2)\n",
        "\n",
        "    path3 = layers.Conv2D(filters_5x5_reduce, (1, 1), padding='same', activation='relu')(x)\n",
        "    path3 = layers.Conv2D(filters_5x5, (5, 5), padding='same', activation='relu')(path3)\n",
        "\n",
        "    path4 = layers.MaxPooling2D((3, 3), strides=(1, 1), padding='same')(x)\n",
        "    path4 = layers.Conv2D(filters_pool_proj, (1, 1), padding='same', activation='relu')(path4)\n",
        "\n",
        "    return layers.concatenate([path1, path2, path3, path4], axis=-1)\n",
        "\n",
        "\n",
        "\n",
        "\n",
        "input_shape = (28, 28, 3)\n",
        "input_layer = layers.Input(shape=input_shape)\n",
        "\n",
        "x = inception_module(input_layer, filter_config=(64, 96, 128, 16, 32, 32))\n",
        "\n",
        "x = layers.MaxPooling2D(pool_size=(2, 2))(x)\n",
        "\n",
        "x = layers.Flatten()(x)\n",
        "x = layers.Dense(64, activation='relu')(x)\n",
        "x = layers.Dense(2, activation='softmax')(x)"
      ],
      "metadata": {
        "id": "xE6UXGltcSue"
      },
      "execution_count": 15,
      "outputs": []
    },
    {
      "cell_type": "code",
      "source": [
        "model = models.Model(inputs=input_layer, outputs=x)"
      ],
      "metadata": {
        "id": "rw1OIvcZk_TU"
      },
      "execution_count": 16,
      "outputs": []
    },
    {
      "cell_type": "code",
      "source": [
        "model.compile(optimizer='adam', loss='sparse_categorical_crossentropy', metrics=['accuracy'])"
      ],
      "metadata": {
        "id": "BsX3rpLdk_5a"
      },
      "execution_count": 17,
      "outputs": []
    },
    {
      "cell_type": "code",
      "source": [
        "model.fit(X_train, y_train, epochs=15, validation_data=(X_val, y_val))"
      ],
      "metadata": {
        "colab": {
          "base_uri": "https://localhost:8080/"
        },
        "id": "1sO6MDbDcZXJ",
        "outputId": "814ef389-7897-41d7-eb98-94db18f16e25"
      },
      "execution_count": 18,
      "outputs": [
        {
          "output_type": "stream",
          "name": "stdout",
          "text": [
            "Epoch 1/15\n",
            "23/23 [==============================] - 3s 20ms/step - loss: 0.6937 - accuracy: 0.6806 - val_loss: 0.2441 - val_accuracy: 0.9333\n",
            "Epoch 2/15\n",
            "23/23 [==============================] - 0s 7ms/step - loss: 0.0586 - accuracy: 0.9958 - val_loss: 0.0060 - val_accuracy: 1.0000\n",
            "Epoch 3/15\n",
            "23/23 [==============================] - 0s 8ms/step - loss: 0.0022 - accuracy: 1.0000 - val_loss: 0.0023 - val_accuracy: 1.0000\n",
            "Epoch 4/15\n",
            "23/23 [==============================] - 0s 8ms/step - loss: 6.9496e-04 - accuracy: 1.0000 - val_loss: 6.7530e-04 - val_accuracy: 1.0000\n",
            "Epoch 5/15\n",
            "23/23 [==============================] - 0s 8ms/step - loss: 2.9477e-04 - accuracy: 1.0000 - val_loss: 4.4234e-04 - val_accuracy: 1.0000\n",
            "Epoch 6/15\n",
            "23/23 [==============================] - 0s 8ms/step - loss: 1.6562e-04 - accuracy: 1.0000 - val_loss: 3.1990e-04 - val_accuracy: 1.0000\n",
            "Epoch 7/15\n",
            "23/23 [==============================] - 0s 8ms/step - loss: 1.3039e-04 - accuracy: 1.0000 - val_loss: 3.5097e-04 - val_accuracy: 1.0000\n",
            "Epoch 8/15\n",
            "23/23 [==============================] - 0s 8ms/step - loss: 1.2410e-04 - accuracy: 1.0000 - val_loss: 2.4921e-04 - val_accuracy: 1.0000\n",
            "Epoch 9/15\n",
            "23/23 [==============================] - 0s 7ms/step - loss: 6.5162e-05 - accuracy: 1.0000 - val_loss: 1.2912e-04 - val_accuracy: 1.0000\n",
            "Epoch 10/15\n",
            "23/23 [==============================] - 0s 8ms/step - loss: 4.3614e-05 - accuracy: 1.0000 - val_loss: 1.2970e-04 - val_accuracy: 1.0000\n",
            "Epoch 11/15\n",
            "23/23 [==============================] - 0s 7ms/step - loss: 2.8811e-05 - accuracy: 1.0000 - val_loss: 1.1085e-04 - val_accuracy: 1.0000\n",
            "Epoch 12/15\n",
            "23/23 [==============================] - 0s 8ms/step - loss: 1.8912e-05 - accuracy: 1.0000 - val_loss: 7.1056e-05 - val_accuracy: 1.0000\n",
            "Epoch 13/15\n",
            "23/23 [==============================] - 0s 8ms/step - loss: 1.3449e-05 - accuracy: 1.0000 - val_loss: 6.1104e-05 - val_accuracy: 1.0000\n",
            "Epoch 14/15\n",
            "23/23 [==============================] - 0s 7ms/step - loss: 1.0537e-05 - accuracy: 1.0000 - val_loss: 4.7507e-05 - val_accuracy: 1.0000\n",
            "Epoch 15/15\n",
            "23/23 [==============================] - 0s 7ms/step - loss: 8.3257e-06 - accuracy: 1.0000 - val_loss: 4.4491e-05 - val_accuracy: 1.0000\n"
          ]
        },
        {
          "output_type": "execute_result",
          "data": {
            "text/plain": [
              "<keras.src.callbacks.History at 0x7bc06c36a4d0>"
            ]
          },
          "metadata": {},
          "execution_count": 18
        }
      ]
    },
    {
      "cell_type": "code",
      "source": [
        "test_loss, test_acc = model.evaluate(X_test, y_test)\n",
        "print(f'Test accuracy: {test_acc}, Test loss: {test_loss}')"
      ],
      "metadata": {
        "colab": {
          "base_uri": "https://localhost:8080/"
        },
        "id": "JfqLLt00lSE2",
        "outputId": "2ec19c01-f8d3-4c5e-e509-1a4f4c6183a1"
      },
      "execution_count": 19,
      "outputs": [
        {
          "output_type": "stream",
          "name": "stdout",
          "text": [
            "8/8 [==============================] - 0s 3ms/step - loss: 1.3531e-05 - accuracy: 1.0000\n",
            "Test accuracy: 1.0, Test loss: 1.3530726391763892e-05\n"
          ]
        }
      ]
    },
    {
      "cell_type": "code",
      "source": [
        "model.save(\"detection_model.h5\")"
      ],
      "metadata": {
        "colab": {
          "base_uri": "https://localhost:8080/"
        },
        "id": "WXrMHpTtcZZT",
        "outputId": "c524e399-f117-41b4-9aef-e04b4c4827a2"
      },
      "execution_count": 20,
      "outputs": [
        {
          "output_type": "stream",
          "name": "stderr",
          "text": [
            "/usr/local/lib/python3.10/dist-packages/keras/src/engine/training.py:3103: UserWarning: You are saving your model as an HDF5 file via `model.save()`. This file format is considered legacy. We recommend using instead the native Keras format, e.g. `model.save('my_model.keras')`.\n",
            "  saving_api.save_model(\n"
          ]
        }
      ]
    },
    {
      "cell_type": "code",
      "source": [
        "model_tfl = tf.keras.models.load_model(\"detection_model.h5\")\n",
        "\n",
        "\n",
        "converter = tf.lite.TFLiteConverter.from_keras_model(model_tfl)\n",
        "tflite_model = converter.convert()"
      ],
      "metadata": {
        "id": "4oBnXi19lix5"
      },
      "execution_count": 21,
      "outputs": []
    },
    {
      "cell_type": "code",
      "source": [
        "with open('detection_model.tflite', 'wb') as f:\n",
        "  f.write(tflite_model)"
      ],
      "metadata": {
        "id": "fl3xuU_Qlmcn"
      },
      "execution_count": 22,
      "outputs": []
    },
    {
      "cell_type": "code",
      "source": [],
      "metadata": {
        "id": "y33yr7qkl2Ch"
      },
      "execution_count": null,
      "outputs": []
    }
  ]
}