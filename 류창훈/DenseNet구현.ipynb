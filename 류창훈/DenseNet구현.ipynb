{
  "nbformat": 4,
  "nbformat_minor": 0,
  "metadata": {
    "colab": {
      "provenance": []
    },
    "kernelspec": {
      "name": "python3",
      "display_name": "Python 3"
    },
    "widgets": {
      "application/vnd.jupyter.widget-state+json": {
        "06290834f83149da9a9cc278ad04d1a4": {
          "model_module": "@jupyter-widgets/controls",
          "model_name": "HBoxModel",
          "state": {
            "_view_name": "HBoxView",
            "_dom_classes": [],
            "_model_name": "HBoxModel",
            "_view_module": "@jupyter-widgets/controls",
            "_model_module_version": "1.5.0",
            "_view_count": null,
            "_view_module_version": "1.5.0",
            "box_style": "",
            "layout": "IPY_MODEL_f616d6839deb4ec5ab2ee15e539e2a2f",
            "_model_module": "@jupyter-widgets/controls",
            "children": [
              "IPY_MODEL_983516ef3bb24caebad2f72ef4eba7de",
              "IPY_MODEL_6cbff6c46258474fab0d262dad3cb221"
            ]
          },
          "model_module_version": "1.5.0"
        },
        "f616d6839deb4ec5ab2ee15e539e2a2f": {
          "model_module": "@jupyter-widgets/base",
          "model_name": "LayoutModel",
          "state": {
            "_view_name": "LayoutView",
            "grid_template_rows": null,
            "right": null,
            "justify_content": null,
            "_view_module": "@jupyter-widgets/base",
            "overflow": null,
            "_model_module_version": "1.2.0",
            "_view_count": null,
            "flex_flow": null,
            "width": null,
            "min_width": null,
            "border": null,
            "align_items": null,
            "bottom": null,
            "_model_module": "@jupyter-widgets/base",
            "top": null,
            "grid_column": null,
            "overflow_y": null,
            "overflow_x": null,
            "grid_auto_flow": null,
            "grid_area": null,
            "grid_template_columns": null,
            "flex": null,
            "_model_name": "LayoutModel",
            "justify_items": null,
            "grid_row": null,
            "max_height": null,
            "align_content": null,
            "visibility": null,
            "align_self": null,
            "height": null,
            "min_height": null,
            "padding": null,
            "grid_auto_rows": null,
            "grid_gap": null,
            "max_width": null,
            "order": null,
            "_view_module_version": "1.2.0",
            "grid_template_areas": null,
            "object_position": null,
            "object_fit": null,
            "grid_auto_columns": null,
            "margin": null,
            "display": null,
            "left": null
          },
          "model_module_version": "1.2.0"
        },
        "983516ef3bb24caebad2f72ef4eba7de": {
          "model_module": "@jupyter-widgets/controls",
          "model_name": "FloatProgressModel",
          "state": {
            "_view_name": "ProgressView",
            "style": "IPY_MODEL_9a9abd6e6e1a41d6a41da53b11e467c6",
            "_dom_classes": [],
            "description": "",
            "_model_name": "FloatProgressModel",
            "bar_style": "info",
            "max": 1,
            "_view_module": "@jupyter-widgets/controls",
            "_model_module_version": "1.5.0",
            "value": 1,
            "_view_count": null,
            "_view_module_version": "1.5.0",
            "orientation": "horizontal",
            "min": 0,
            "description_tooltip": null,
            "_model_module": "@jupyter-widgets/controls",
            "layout": "IPY_MODEL_27eaeb749c0b439db11c7b13fc68225d"
          },
          "model_module_version": "1.5.0"
        },
        "6cbff6c46258474fab0d262dad3cb221": {
          "model_module": "@jupyter-widgets/controls",
          "model_name": "HTMLModel",
          "state": {
            "_view_name": "HTMLView",
            "style": "IPY_MODEL_1373a9032d3747409ba2f928ef9db624",
            "_dom_classes": [],
            "description": "",
            "_model_name": "HTMLModel",
            "placeholder": "​",
            "_view_module": "@jupyter-widgets/controls",
            "_model_module_version": "1.5.0",
            "value": " 561758208/? [00:20&lt;00:00, 99800353.95it/s]",
            "_view_count": null,
            "_view_module_version": "1.5.0",
            "description_tooltip": null,
            "_model_module": "@jupyter-widgets/controls",
            "layout": "IPY_MODEL_2011f6766cca4f36abc29baaef7461b4"
          },
          "model_module_version": "1.5.0"
        },
        "9a9abd6e6e1a41d6a41da53b11e467c6": {
          "model_module": "@jupyter-widgets/controls",
          "model_name": "ProgressStyleModel",
          "state": {
            "_view_name": "StyleView",
            "_model_name": "ProgressStyleModel",
            "description_width": "initial",
            "_view_module": "@jupyter-widgets/base",
            "_model_module_version": "1.5.0",
            "_view_count": null,
            "_view_module_version": "1.2.0",
            "bar_color": null,
            "_model_module": "@jupyter-widgets/controls"
          },
          "model_module_version": "1.5.0"
        },
        "27eaeb749c0b439db11c7b13fc68225d": {
          "model_module": "@jupyter-widgets/base",
          "model_name": "LayoutModel",
          "state": {
            "_view_name": "LayoutView",
            "grid_template_rows": null,
            "right": null,
            "justify_content": null,
            "_view_module": "@jupyter-widgets/base",
            "overflow": null,
            "_model_module_version": "1.2.0",
            "_view_count": null,
            "flex_flow": null,
            "width": null,
            "min_width": null,
            "border": null,
            "align_items": null,
            "bottom": null,
            "_model_module": "@jupyter-widgets/base",
            "top": null,
            "grid_column": null,
            "overflow_y": null,
            "overflow_x": null,
            "grid_auto_flow": null,
            "grid_area": null,
            "grid_template_columns": null,
            "flex": null,
            "_model_name": "LayoutModel",
            "justify_items": null,
            "grid_row": null,
            "max_height": null,
            "align_content": null,
            "visibility": null,
            "align_self": null,
            "height": null,
            "min_height": null,
            "padding": null,
            "grid_auto_rows": null,
            "grid_gap": null,
            "max_width": null,
            "order": null,
            "_view_module_version": "1.2.0",
            "grid_template_areas": null,
            "object_position": null,
            "object_fit": null,
            "grid_auto_columns": null,
            "margin": null,
            "display": null,
            "left": null
          },
          "model_module_version": "1.2.0"
        },
        "1373a9032d3747409ba2f928ef9db624": {
          "model_module": "@jupyter-widgets/controls",
          "model_name": "DescriptionStyleModel",
          "state": {
            "_view_name": "StyleView",
            "_model_name": "DescriptionStyleModel",
            "description_width": "",
            "_view_module": "@jupyter-widgets/base",
            "_model_module_version": "1.5.0",
            "_view_count": null,
            "_view_module_version": "1.2.0",
            "_model_module": "@jupyter-widgets/controls"
          },
          "model_module_version": "1.5.0"
        },
        "2011f6766cca4f36abc29baaef7461b4": {
          "model_module": "@jupyter-widgets/base",
          "model_name": "LayoutModel",
          "state": {
            "_view_name": "LayoutView",
            "grid_template_rows": null,
            "right": null,
            "justify_content": null,
            "_view_module": "@jupyter-widgets/base",
            "overflow": null,
            "_model_module_version": "1.2.0",
            "_view_count": null,
            "flex_flow": null,
            "width": null,
            "min_width": null,
            "border": null,
            "align_items": null,
            "bottom": null,
            "_model_module": "@jupyter-widgets/base",
            "top": null,
            "grid_column": null,
            "overflow_y": null,
            "overflow_x": null,
            "grid_auto_flow": null,
            "grid_area": null,
            "grid_template_columns": null,
            "flex": null,
            "_model_name": "LayoutModel",
            "justify_items": null,
            "grid_row": null,
            "max_height": null,
            "align_content": null,
            "visibility": null,
            "align_self": null,
            "height": null,
            "min_height": null,
            "padding": null,
            "grid_auto_rows": null,
            "grid_gap": null,
            "max_width": null,
            "order": null,
            "_view_module_version": "1.2.0",
            "grid_template_areas": null,
            "object_position": null,
            "object_fit": null,
            "grid_auto_columns": null,
            "margin": null,
            "display": null,
            "left": null
          },
          "model_module_version": "1.2.0"
        }
      }
    }
  },
  "cells": [
    {
      "cell_type": "code",
      "metadata": {
        "id": "wB9bDy2qLM99"
      },
      "source": [
        "import numpy as np\n",
        "import math\n",
        "import time\n",
        "import random\n",
        "import torch\n",
        "import torchvision\n",
        "import torch.nn as nn\n",
        "import torch.nn.functional as F\n",
        "import torch.optim as optim\n",
        "from torch.utils.data import Dataset\n",
        "import torchvision.transforms as transforms\n",
        "import matplotlib.pyplot as plt\n",
        "%matplotlib inline"
      ],
      "execution_count": null,
      "outputs": []
    },
    {
      "cell_type": "code",
      "metadata": {
        "id": "AKxOUQ21kExq"
      },
      "source": [
        "device = torch.device('cuda' if torch.cuda.is_available() else 'cpu')\n",
        "np.random.seed(7)\n",
        "random.seed(7)"
      ],
      "execution_count": null,
      "outputs": []
    },
    {
      "cell_type": "code",
      "metadata": {
        "colab": {
          "base_uri": "https://localhost:8080/",
          "height": 285,
          "referenced_widgets": [
            "06290834f83149da9a9cc278ad04d1a4",
            "f616d6839deb4ec5ab2ee15e539e2a2f",
            "983516ef3bb24caebad2f72ef4eba7de",
            "6cbff6c46258474fab0d262dad3cb221",
            "9a9abd6e6e1a41d6a41da53b11e467c6",
            "27eaeb749c0b439db11c7b13fc68225d",
            "1373a9032d3747409ba2f928ef9db624",
            "2011f6766cca4f36abc29baaef7461b4"
          ]
        },
        "id": "ifFDV34LLi17",
        "outputId": "800788ec-d9c8-4202-919d-dd4f4cc6d3cd"
      },
      "source": [
        "train_data = torchvision.datasets.EMNIST(root='./EMNST',split='bymerge', train=True, download=True, transform=transforms.ToTensor())\n",
        "test_data = torchvision.datasets.EMNIST(root='./EMNST',split='bymerge', train=False, transform=transforms.ToTensor())"
      ],
      "execution_count": null,
      "outputs": [
        {
          "output_type": "stream",
          "text": [
            "Downloading and extracting zip archive\n",
            "Downloading http://www.itl.nist.gov/iaui/vip/cs_links/EMNIST/gzip.zip to ./EMNST/EMNIST/raw/emnist.zip\n"
          ],
          "name": "stdout"
        },
        {
          "output_type": "display_data",
          "data": {
            "application/vnd.jupyter.widget-view+json": {
              "model_id": "06290834f83149da9a9cc278ad04d1a4",
              "version_minor": 0,
              "version_major": 2
            },
            "text/plain": [
              "HBox(children=(FloatProgress(value=1.0, bar_style='info', max=1.0), HTML(value='')))"
            ]
          },
          "metadata": {
            "tags": []
          }
        },
        {
          "output_type": "stream",
          "text": [
            "Extracting ./EMNST/EMNIST/raw/emnist.zip to ./EMNST/EMNIST/raw\n",
            "Processing byclass\n"
          ],
          "name": "stdout"
        },
        {
          "output_type": "stream",
          "text": [
            "/usr/local/lib/python3.6/dist-packages/torchvision/datasets/mnist.py:480: UserWarning: The given NumPy array is not writeable, and PyTorch does not support non-writeable tensors. This means you can write to the underlying (supposedly non-writeable) NumPy array using the tensor. You may want to copy the array to protect its data or make it writeable before converting it to a tensor. This type of warning will be suppressed for the rest of this program. (Triggered internally at  /pytorch/torch/csrc/utils/tensor_numpy.cpp:141.)\n",
            "  return torch.from_numpy(parsed.astype(m[2], copy=False)).view(*s)\n"
          ],
          "name": "stderr"
        },
        {
          "output_type": "stream",
          "text": [
            "Processing bymerge\n",
            "Processing balanced\n",
            "Processing letters\n",
            "Processing digits\n",
            "Processing mnist\n",
            "Done!\n"
          ],
          "name": "stdout"
        }
      ]
    },
    {
      "cell_type": "code",
      "metadata": {
        "colab": {
          "base_uri": "https://localhost:8080/"
        },
        "id": "0iK9jtt6Luvf",
        "outputId": "850ac854-beea-40cd-9c18-55a300fdbecc"
      },
      "source": [
        "len(train_data),len(test_data)"
      ],
      "execution_count": null,
      "outputs": [
        {
          "output_type": "execute_result",
          "data": {
            "text/plain": [
              "(697932, 116323)"
            ]
          },
          "metadata": {
            "tags": []
          },
          "execution_count": 4
        }
      ]
    },
    {
      "cell_type": "code",
      "metadata": {
        "colab": {
          "base_uri": "https://localhost:8080/",
          "height": 160
        },
        "id": "DWfEWtfEc0im",
        "outputId": "a5ac7f0a-028a-4ab3-a5d5-42ed95fd8e48"
      },
      "source": [
        "plt.figure(figsize=(10,5))\n",
        "for i in range(5):\n",
        "  plt.subplot(1, 5, i+1)\n",
        "  plt.imshow(train_data[i][0].squeeze())\n",
        "  plt.title(train_data[i][1])\n",
        "plt.show()"
      ],
      "execution_count": null,
      "outputs": [
        {
          "output_type": "display_data",
          "data": {
            "image/png": "[encoded data removed]",
            "text/plain": [
              "<Figure size 720x360 with 5 Axes>"
            ]
          },
          "metadata": {
            "tags": [],
            "needs_background": "light"
          }
        }
      ]
    },
    {
      "cell_type": "code",
      "metadata": {
        "id": "WLBJ-R8jit30"
      },
      "source": [
        "train_loader=torch.utils.data.DataLoader(train_data,batch_size=64,shuffle=True)\n",
        "test_loader=torch.utils.data.DataLoader(test_data,batch_size=64,shuffle=False)"
      ],
      "execution_count": null,
      "outputs": []
    },
    {
      "cell_type": "code",
      "metadata": {
        "colab": {
          "base_uri": "https://localhost:8080/"
        },
        "id": "f76c1Cn8nyRf",
        "outputId": "5138715b-3092-4928-8e7a-20def836e840"
      },
      "source": [
        "len(train_loader),len(test_loader)"
      ],
      "execution_count": null,
      "outputs": [
        {
          "output_type": "execute_result",
          "data": {
            "text/plain": [
              "(10906, 1818)"
            ]
          },
          "metadata": {
            "tags": []
          },
          "execution_count": 7
        }
      ]
    },
    {
      "cell_type": "code",
      "metadata": {
        "id": "JM_14nW0EXFp"
      },
      "source": [
        "class DenseUnit(nn.Module):\n",
        "    def __init__(self, in_planes ,growth_rate, dropRate=0.0):\n",
        "        super(DenseUnit,self).__init__()\n",
        "        self.bn1 = nn.BatchNorm2d(in_planes)\n",
        "        self.relu = nn.ReLU()\n",
        "        self.conv1 = nn.Conv2d(in_channels= in_planes, out_channels= growth_rate*4, kernel_size=1, stride=1,padding=0,bias=False)\n",
        "        self.bn2 = nn.BatchNorm2d(growth_rate*4)\n",
        "        self.conv2 = nn.Conv2d(in_channels= growth_rate*4,out_channels= growth_rate, kernel_size=3, stride=1,padding=1,bias=False)\n",
        "        self.dropout = dropRate\n",
        "\n",
        "    def forward(self, x):\n",
        "        h = self.bn1(x)\n",
        "        h = self.relu(h)\n",
        "        h = self.conv1(h)\n",
        "        if self.dropout>0:\n",
        "          h = F.dropout(h, p=self.dropout)\n",
        "        h = self.conv2(self.relu(self.bn2(h)))\n",
        "        if self.dropout>0:\n",
        "          h = F.dropout(h, p=self.dropout)\n",
        "        return torch.cat([x,h],dim=1)"
      ],
      "execution_count": null,
      "outputs": []
    },
    {
      "cell_type": "code",
      "metadata": {
        "id": "XjDb82r2F1iu"
      },
      "source": [
        "class DenseBlock(nn.Module):\n",
        "    def __init__(self, nb_layers, in_planes, growth_rate, dropRate=0.0):\n",
        "        super(DenseBlock, self).__init__()\n",
        "        self.layer = self._make_layer(in_planes, growth_rate, nb_layers, dropRate)\n",
        "\n",
        "    def _make_layer(self, in_planes, growth_rate, nb_layers, dropRate):\n",
        "        layers = []\n",
        "        for i in range(nb_layers):\n",
        "          in_ch = in_planes + growth_rate * i\n",
        "          layers.append(DenseUnit(in_ch, growth_rate,dropRate))\n",
        "        return nn.Sequential(*layers)\n",
        "\n",
        "    def forward(self, x):\n",
        "        return self.layer(x)"
      ],
      "execution_count": null,
      "outputs": []
    },
    {
      "cell_type": "code",
      "metadata": {
        "id": "OcSMZ9FKJUFL"
      },
      "source": [
        "class TransitionBlock(nn.Module):\n",
        "    def __init__(self, in_planes, out_planes, dropRate=0.0):\n",
        "        super(TransitionBlock, self).__init__()\n",
        "        self.bn1 = nn.BatchNorm2d(in_planes)\n",
        "        self.relu = nn.ReLU()\n",
        "        self.conv1 = nn.Conv2d(in_channels= in_planes,out_channels= out_planes, kernel_size=1, stride=1,padding=0,bias=False)\n",
        "        self.pool = nn.AvgPool2d(kernel_size= 2,stride=2)\n",
        "        self.dropout = dropRate\n",
        "    def forward(self, x):\n",
        "        out = self.conv1(self.relu(self.bn1(x)))\n",
        "        if self.dropout>0.0:\n",
        "          out=F.dropout(out,p=self.dropout)\n",
        "        return self.pool(out)"
      ],
      "execution_count": null,
      "outputs": []
    },
    {
      "cell_type": "code",
      "metadata": {
        "id": "SSO9olc0iK2Q"
      },
      "source": [
        "class Densenet(nn.Module):\n",
        "  def __init__(self, growth_rate=32, depth, num_classes, reduction=0.5, dropRate=0.0):\n",
        "    super(Densenet,self).__init__()\n",
        "    in_planes = 2 * growth_rate\n",
        "    n=(depth-4)/3\n",
        "    n=n/2\n",
        "    n=int(n)\n",
        "\n",
        "    self.conv1 = nn.Conv2d(1,in_planes, kernel_size= 3, padding=1)\n",
        "    self.dl1 = DenseBlock(n,in_planes,growth_rate)\n",
        "    in_planes = int(in_planes+n*growth_rate)\n",
        "    self.tr1 = TransitionBlock(in_planes,int(math.floor(in_planes*reduction)),dropRate)\n",
        "    in_planes = int(math.floor(in_planes*reduction))\n",
        "\n",
        "    self.dl2 = DenseBlock(n,in_planes,growth_rate,dropRate)\n",
        "    in_planes = int(in_planes+n*growth_rate)\n",
        "    self.tr2 = TransitionBlock(in_planes,int(math.floor(in_planes*reduction)),dropRate)\n",
        "    in_planes=int(math.floor(in_planes*reduction))\n",
        "\n",
        "    self.dl3=DenseBlock(n,in_planes,growth_rate,dropRate)\n",
        "    in_planes = int(in_planes+n*growth_rate)\n",
        "\n",
        "    self.bn=nn.BatchNorm2d(in_planes)\n",
        "    self.relu=nn.ReLU()\n",
        "    self.fc=nn.Linear(in_planes,num_classes)\n",
        "\n",
        "  def forward(self,x):\n",
        "    x=self.conv1(x)\n",
        "    x=self.dl1(x)\n",
        "    x=self.tr1(x)\n",
        "    x=self.dl2(x)\n",
        "    x=self.tr2(x)\n",
        "    x=self.dl3(x)\n",
        "\n",
        "    x=self.relu(self.bn(x))\n",
        "    x= F.avg_pool2d(x, kernel_size=7)\n",
        "\n",
        "    x=x.reshape(x.size(0),-1)\n",
        "    x=self.fc(x)\n",
        "\n",
        "    return x"
      ],
      "execution_count": null,
      "outputs": []
    },
    {
      "cell_type": "code",
      "metadata": {
        "id": "K2Xu7lJ6phSS"
      },
      "source": [
        "lr=0.001\n",
        "epochs=4"
      ],
      "execution_count": null,
      "outputs": []
    },
    {
      "cell_type": "code",
      "metadata": {
        "id": "kW8e5rrepAI5"
      },
      "source": [
        "torch.manual_seed(17404574258890175341)\n",
        "torch.cuda.manual_seed_all(1852927266102222)\n",
        "model_Dense=Densenet(depth=28, num_classes=47).to(device)\n",
        "criterion=nn.CrossEntropyLoss()\n",
        "optm=optim.Adam(model_Dense.parameters(),lr=lr)\n",
        "decay_epoch=[500000,600000]\n",
        "step_lr_scheduler=torch.optim.lr_scheduler.MultiStepLR(optm,milestones=decay_epoch,gamma=0.7)"
      ],
      "execution_count": null,
      "outputs": []
    },
    {
      "cell_type": "code",
      "metadata": {
        "colab": {
          "base_uri": "https://localhost:8080/"
        },
        "id": "ET5TIN-sp4iS",
        "outputId": "3a096066-bfd6-43a4-e7b5-e0348ae09f51"
      },
      "source": [
        "# Training\n",
        "running_losses=[]\n",
        "start=time.time()\n",
        "for epoch in range(epochs):\n",
        "    model_Dense.train()\n",
        "    running_loss=0\n",
        "    for i,(images,labels) in enumerate(train_loader):\n",
        "        images=images.to(device)\n",
        "        labels=labels.to(device)\n",
        "        optm.zero_grad()\n",
        "        outputs=model_Dense(images)\n",
        "\n",
        "        loss=criterion(outputs,labels)\n",
        "        loss.backward()\n",
        "        optm.step()\n",
        "        step_lr_scheduler.step()\n",
        "\n",
        "        running_loss+=loss.item()\n",
        "\n",
        "        if (i%2000==1999):\n",
        "            print(\"Epoch [{}/{}] , Step [{}/{}], Loss {:.4f}\".format(epoch+1,epochs,i+1,len(train_loader),running_loss/2000))\n",
        "            running_losses.append(running_loss/2000)\n",
        "            running_loss=0\n",
        "            if (epoch==3 and i==7999):\n",
        "              break\n",
        "\n",
        "end=time.time()\n",
        "print(\"Take time : %.2f minutes\" %((end-start)/60))"
      ],
      "execution_count": null,
      "outputs": [
        {
          "output_type": "stream",
          "text": [
            "Epoch [1/4] , Step [2000/10906], Loss 0.5125\n",
            "Epoch [1/4] , Step [4000/10906], Loss 0.3446\n",
            "Epoch [1/4] , Step [6000/10906], Loss 0.3241\n",
            "Epoch [1/4] , Step [8000/10906], Loss 0.3048\n",
            "Epoch [1/4] , Step [10000/10906], Loss 0.2945\n",
            "Epoch [2/4] , Step [2000/10906], Loss 0.2735\n",
            "Epoch [2/4] , Step [4000/10906], Loss 0.2678\n",
            "Epoch [2/4] , Step [6000/10906], Loss 0.2726\n",
            "Epoch [2/4] , Step [8000/10906], Loss 0.2675\n",
            "Epoch [2/4] , Step [10000/10906], Loss 0.2638\n",
            "Epoch [3/4] , Step [2000/10906], Loss 0.2459\n",
            "Epoch [3/4] , Step [4000/10906], Loss 0.2478\n",
            "Epoch [3/4] , Step [6000/10906], Loss 0.2467\n",
            "Epoch [3/4] , Step [8000/10906], Loss 0.2487\n",
            "Epoch [3/4] , Step [10000/10906], Loss 0.2481\n",
            "Epoch [4/4] , Step [2000/10906], Loss 0.2301\n",
            "Epoch [4/4] , Step [4000/10906], Loss 0.2336\n",
            "Epoch [4/4] , Step [6000/10906], Loss 0.2381\n",
            "Epoch [4/4] , Step [8000/10906], Loss 0.2342\n",
            "Take time : 14.36 minutes\n"
          ],
          "name": "stdout"
        }
      ]
    },
    {
      "cell_type": "code",
      "metadata": {
        "colab": {
          "base_uri": "https://localhost:8080/",
          "height": 265
        },
        "id": "otTsEZ3BJ3CH",
        "outputId": "a384edfe-0cc6-4b21-da53-15bc8635f390"
      },
      "source": [
        "plt.plot(running_losses)\n",
        "plt.show()"
      ],
      "execution_count": null,
      "outputs": [
        {
          "output_type": "display_data",
          "data": {
            "image/png": "[encoded data removed]",
            "text/plain": [
              "<Figure size 432x288 with 1 Axes>"
            ]
          },
          "metadata": {
            "tags": [],
            "needs_background": "light"
          }
        }
      ]
    },
    {
      "cell_type": "code",
      "metadata": {
        "id": "GZ6BC9JkVaza"
      },
      "source": [
        "# 모델 저장\n",
        "torch.save(model_Dense.state_dict(),\"20181896_model2.pth\")"
      ],
      "execution_count": null,
      "outputs": []
    },
    {
      "cell_type": "code",
      "metadata": {
        "id": "gDw5PnTVMqJg",
        "colab": {
          "base_uri": "https://localhost:8080/"
        },
        "outputId": "bf91b5e6-b519-4c11-a4ed-1e16a9f0b89e"
      },
      "source": [
        "# 모델 불러오기\n",
        "test_model = Densenet().to(device)\n",
        "test_model.load_state_dict(torch.load(\"20181896_model2.pth\"))"
      ],
      "execution_count": null,
      "outputs": [
        {
          "output_type": "execute_result",
          "data": {
            "text/plain": [
              "<All keys matched successfully>"
            ]
          },
          "metadata": {
            "tags": []
          },
          "execution_count": 10
        }
      ]
    },
    {
      "cell_type": "code",
      "metadata": {
        "colab": {
          "base_uri": "https://localhost:8080/"
        },
        "id": "gB2m5mC5GEDp",
        "outputId": "d15f2b13-c316-4e2f-e00c-13d8504c0771"
      },
      "source": [
        "# Testing\n",
        "class_corr=list(0. for i in range(47))\n",
        "class_tot=list(0. for i in range(47))\n",
        "\n",
        "test_model.eval()\n",
        "with torch.no_grad():\n",
        "  correct=0\n",
        "  total=0\n",
        "  for i, (images, labels) in enumerate(test_loader):\n",
        "    images=images.to(device)\n",
        "    labels=labels.to(device)\n",
        "    outputs=test_model(images)\n",
        "    _,predicted=torch.max(outputs.data,1)\n",
        "    total+=labels.size(0)\n",
        "    correct+=(predicted==labels).sum().item()\n",
        "\n",
        "    c=(predicted==labels).squeeze()\n",
        "    if i==1817:\n",
        "      for i in range(35):\n",
        "        label=labels[i]\n",
        "        class_corr[label]+=c[i].item()\n",
        "        class_tot[label]+=1\n",
        "    else:\n",
        "      for i in range(64):\n",
        "        label=labels[i]\n",
        "        class_corr[label]+=c[i].item()\n",
        "        class_tot[label]+=1\n",
        "  print('Accuracy of the network on the {} test images {:.2f}%'.format(len(test_data),100*correct/total))"
      ],
      "execution_count": null,
      "outputs": [
        {
          "output_type": "stream",
          "text": [
            "Accuracy of the network on the 116323 test images 90.97%\n"
          ],
          "name": "stdout"
        }
      ]
    },
    {
      "cell_type": "code",
      "metadata": {
        "colab": {
          "base_uri": "https://localhost:8080/"
        },
        "id": "TQef0UHJIc_D",
        "outputId": "22ba9938-c470-406c-8bf0-3bba600103b1"
      },
      "source": [
        "# 각 class별 Accuracy 확인\n",
        "for i in range(47):\n",
        "  print('Accuracy of %2d : %.2f%%'%(i,100*class_corr[i]/class_tot[i]))"
      ],
      "execution_count": null,
      "outputs": [
        {
          "output_type": "stream",
          "text": [
            "Accuracy of  0 : 79.58%\n",
            "Accuracy of  1 : 93.44%\n",
            "Accuracy of  2 : 97.55%\n",
            "Accuracy of  3 : 99.54%\n",
            "Accuracy of  4 : 97.71%\n",
            "Accuracy of  5 : 92.79%\n",
            "Accuracy of  6 : 97.22%\n",
            "Accuracy of  7 : 99.10%\n",
            "Accuracy of  8 : 98.67%\n",
            "Accuracy of  9 : 98.44%\n",
            "Accuracy of 10 : 98.58%\n",
            "Accuracy of 11 : 97.55%\n",
            "Accuracy of 12 : 97.36%\n",
            "Accuracy of 13 : 93.33%\n",
            "Accuracy of 14 : 98.60%\n",
            "Accuracy of 15 : 89.24%\n",
            "Accuracy of 16 : 88.37%\n",
            "Accuracy of 17 : 96.53%\n",
            "Accuracy of 18 : 54.87%\n",
            "Accuracy of 19 : 93.86%\n",
            "Accuracy of 20 : 98.15%\n",
            "Accuracy of 21 : 34.99%\n",
            "Accuracy of 22 : 99.24%\n",
            "Accuracy of 23 : 98.82%\n",
            "Accuracy of 24 : 60.62%\n",
            "Accuracy of 25 : 98.29%\n",
            "Accuracy of 26 : 95.18%\n",
            "Accuracy of 27 : 98.44%\n",
            "Accuracy of 28 : 96.05%\n",
            "Accuracy of 29 : 93.44%\n",
            "Accuracy of 30 : 95.81%\n",
            "Accuracy of 31 : 92.64%\n",
            "Accuracy of 32 : 98.73%\n",
            "Accuracy of 33 : 96.66%\n",
            "Accuracy of 34 : 92.72%\n",
            "Accuracy of 35 : 85.30%\n",
            "Accuracy of 36 : 92.87%\n",
            "Accuracy of 37 : 92.92%\n",
            "Accuracy of 38 : 98.07%\n",
            "Accuracy of 39 : 99.04%\n",
            "Accuracy of 40 : 28.40%\n",
            "Accuracy of 41 : 62.26%\n",
            "Accuracy of 42 : 95.90%\n",
            "Accuracy of 43 : 95.94%\n",
            "Accuracy of 44 : 45.40%\n",
            "Accuracy of 45 : 95.73%\n",
            "Accuracy of 46 : 95.00%\n"
          ],
          "name": "stdout"
        }
      ]
    }
  ]
}